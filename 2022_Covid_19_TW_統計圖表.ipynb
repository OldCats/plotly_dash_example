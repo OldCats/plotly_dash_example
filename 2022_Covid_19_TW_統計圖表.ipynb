{
  "cells": [
    {
      "cell_type": "markdown",
      "metadata": {
        "id": "h2CBme5ly6_R"
      },
      "source": [
        "## Data Source:\n",
        "https://docs.google.com/spreadsheets/d/16Oi7F6RZh6w1mSO821RW6UzqWE-oSExZDHLhRzcK5Ug/edit?fbclid=IwAR0zF8xkZYIBzj74aLYKc5SvkIGXey5OY1DlSVOSducLX3fnLaeMY2wzX8w#gid=2028039576"
      ]
    },
    {
      "cell_type": "markdown",
      "metadata": {
        "id": "YxAnzIxIfWa4"
      },
      "source": [
        "## install chart_studio"
      ]
    },
    {
      "cell_type": "code",
      "execution_count": null,
      "metadata": {
        "id": "7rHbUh9ewhoT"
      },
      "outputs": [],
      "source": [
        "%%sh\n",
        "pip install chart_studio"
      ]
    },
    {
      "cell_type": "code",
      "execution_count": null,
      "metadata": {
        "id": "lnObwHa-xBhm"
      },
      "outputs": [],
      "source": [
        "from chart_studio.plotly import plot, iplot"
      ]
    },
    {
      "cell_type": "code",
      "execution_count": null,
      "metadata": {
        "colab": {
          "base_uri": "https://localhost:8080/"
        },
        "id": "CqvYN9KGy1ZB",
        "outputId": "76094f73-18c6-43e4-cd28-2f94cfdb61cd"
      },
      "outputs": [],
      "source": [
        "import pandas as pd\n",
        "import numpy as np\n",
        "import datetime\n",
        "import plotly.express as px\n",
        "import plotly.graph_objects as go\n",
        " \n",
        "\n",
        "daily_stats = pd.read_csv('https://od.cdc.gov.tw/eic/Day_Confirmation_Age_County_Gender_19CoV.csv')\n",
        "daily_stats['個案研判日_datetime'] = pd.to_datetime(daily_stats['個案研判日']).dt.date\n",
        "\n",
        "daily_stats.rename(columns= {'個案研判日':'個案研判日_string'}, inplace=True)\n",
        "\n",
        "daily_stats['年齡層'] = daily_stats['年齡層'].replace({'0':'00-04',\n",
        "                           '1':'00-04',\n",
        "                           '2':'00-04',\n",
        "                           '3':'00-04',\n",
        "                           '4':'00-04',\n",
        "                           '5-9':'05-09'})\n",
        "\n",
        "daily_stats['年齡層'] = daily_stats['年齡層'].str.replace('-', '~')\n",
        "\n",
        "date_start = datetime.date(2022, 4, 1)\n",
        "mask = (daily_stats.個案研判日_datetime > date_start) & (daily_stats.確定病名 == '嚴重特殊傳染性肺炎')\n",
        "daily_stats = daily_stats[mask]\n",
        "\n",
        "mask = (daily_stats.性別 == '男') | (daily_stats.性別 == '女')\n",
        "daily_stats = daily_stats[mask]\n",
        "\n",
        "daily_stats['是否為境外移入'].replace('None', '否', inplace=True)"
      ]
    },
    {
      "cell_type": "code",
      "execution_count": null,
      "metadata": {
        "colab": {
          "base_uri": "https://localhost:8080/",
          "height": 423
        },
        "id": "578xxtIb-l79",
        "outputId": "bbecf92a-6c29-4e75-c406-2de7fae98e2d"
      },
      "outputs": [],
      "source": [
        "daily_stats"
      ]
    },
    {
      "cell_type": "code",
      "execution_count": null,
      "metadata": {
        "colab": {
          "base_uri": "https://localhost:8080/",
          "height": 542
        },
        "id": "I4isDhJvDvA4",
        "outputId": "7e6a6a14-6ee8-4c84-9d90-90a2bf5b1c5f"
      },
      "outputs": [],
      "source": [
        "# 4月起，各縣市每日確診趨勢\n",
        "\n",
        "pivot1 = daily_stats.pivot_table(index=['個案研判日_string','縣市'], values='確定病例數', aggfunc='sum')\n",
        "pivot1 = pivot1.reset_index()\n",
        "mask = pivot1.縣市 != '空值'\n",
        "pivot1 = pivot1[mask]\n",
        "\n",
        "fig1 = px.bar(pivot1, y='縣市', x='確定病例數',\n",
        "         orientation='h',\n",
        "         animation_frame='個案研判日_string',\n",
        "         title='縣市確診病例數')\n",
        "fig1.update_layout(yaxis_categoryorder = 'total ascending')\n",
        "\n",
        "fig1.show()"
      ]
    },
    {
      "cell_type": "code",
      "execution_count": null,
      "metadata": {
        "colab": {
          "base_uri": "https://localhost:8080/",
          "height": 542
        },
        "id": "bvWV-X318Fe0",
        "outputId": "ebb76d66-8214-4de6-b3a0-fca03a4ecc67"
      },
      "outputs": [],
      "source": [
        "# 境外移入與比例\n",
        "\n",
        "from plotly.subplots import make_subplots\n",
        "\n",
        "pivot2 = daily_stats.pivot_table(index='個案研判日_datetime', columns='是否為境外移入', values='確定病例數', aggfunc=sum)\n",
        "pivot2 = pivot2.reset_index()\n",
        "\n",
        "pivot2['境外移入比例(%)'] = pivot2.eval('是 / (是+否)*100')\n",
        "\n",
        "pivot2\n",
        "\n",
        "fig2 = make_subplots(specs=[[{\"secondary_y\": True}]])\n",
        "\n",
        "fig2.add_trace(go.Bar(name='境外移入案例', x=pivot2['個案研判日_datetime'], y=pivot2['是']),\n",
        "        secondary_y=False)\n",
        "\n",
        "\n",
        "fig2.add_trace(\n",
        "  go.Scatter(name='境外移入比例(%)', x=pivot2['個案研判日_datetime'], y=pivot2['境外移入比例(%)']),\n",
        "  secondary_y=True)\n",
        "\n",
        "fig2.update_layout(title = '境外移入案例與境外移入比例', yaxis_range=[0, 250])\n",
        "fig2.update_yaxes(range=[0, 50], secondary_y=True)\n",
        "\n",
        "fig2.show()"
      ]
    },
    {
      "cell_type": "code",
      "execution_count": null,
      "metadata": {
        "colab": {
          "base_uri": "https://localhost:8080/",
          "height": 423
        },
        "id": "lJCLElQvEFMu",
        "outputId": "0ce5c8fb-0394-49ae-c1ad-688d5b8da2ee"
      },
      "outputs": [],
      "source": [
        "pivot2"
      ]
    },
    {
      "cell_type": "code",
      "execution_count": null,
      "metadata": {
        "colab": {
          "base_uri": "https://localhost:8080/",
          "height": 542
        },
        "id": "jMMwN0waEOXO",
        "outputId": "5c653379-0b16-4064-c602-736c72126cb2"
      },
      "outputs": [],
      "source": [
        "# 本土七日均線\n",
        "\n",
        "mask = daily_stats.是否為境外移入 == '否'\n",
        "local_daily = daily_stats[mask]\n",
        "pivot3 = local_daily.pivot_table(index='個案研判日_datetime', values=['確定病例數'], aggfunc='sum')\n",
        "\n",
        "pivot3['本土七日均線'] = pivot3.rolling(window=7, min_periods=1).mean().round(2)\n",
        "\n",
        "pivot3\n",
        "\n",
        "fig3 = go.Figure(data=[\n",
        "  go.Bar(name='本土案例', x=pivot3.index, y=pivot3['確定病例數']),\n",
        "  go.Scatter(name='本土七日均線', x=pivot3.index, y=pivot3['本土七日均線'])\n",
        "])\n",
        "fig3.update_layout(title = '本土七日均線')\n",
        "\n",
        "fig3.show()\n"
      ]
    },
    {
      "cell_type": "code",
      "execution_count": null,
      "metadata": {
        "colab": {
          "base_uri": "https://localhost:8080/",
          "height": 542
        },
        "id": "KP1HHOImQQfV",
        "outputId": "b4727665-431b-4d9b-a3c8-14afcf1e3226"
      },
      "outputs": [],
      "source": [
        "# 確診年齡層\n",
        "\n",
        "pivot4 = daily_stats.pivot_table(index=['個案研判日_datetime','年齡層','性別'], values=['確定病例數'], aggfunc='sum')\n",
        "pivot4 = pivot4.reset_index()\n",
        "\n",
        "#test_df = pivot4[ pivot4['個案研判日_datetime'] == datetime.date(2022, 4, 2) ]\n",
        "\n",
        "\n",
        "male  = pivot4[pivot4['性別'] == '男']\n",
        "female = pivot4[pivot4['性別'] == '女']\n",
        "\n",
        "layout = go.Layout(yaxis=go.layout.YAxis(title='年齡'))\n",
        "\n",
        "fig4 = go.Figure(data=[\n",
        "    go.Bar(name='男',\n",
        "        y=male['年齡層'],\n",
        "        x=male['確定病例數'],\n",
        "        orientation='h'),\n",
        "\n",
        "    go.Bar(name='女',\n",
        "        y=female['年齡層'],\n",
        "        x=female['確定病例數'].apply(lambda x: -x),\n",
        "        orientation='h')\n",
        "])\n",
        "\n",
        "fig4.update_layout(barmode='relative',\n",
        "         title='確診年齡層分布-1')\n",
        "\n",
        "\n",
        "fig4.show()\n"
      ]
    },
    {
      "cell_type": "code",
      "execution_count": null,
      "metadata": {
        "colab": {
          "base_uri": "https://localhost:8080/",
          "height": 542
        },
        "id": "XalcreRzpx32",
        "outputId": "f5f46253-c923-4e9b-987e-817c66a46718"
      },
      "outputs": [],
      "source": [
        "# 確診年齡層\n",
        "\n",
        "pivot4 = daily_stats.pivot_table(index=['個案研判日_string','年齡層','性別'], values=['確定病例數'], aggfunc='sum')\n",
        "pivot4 = pivot4.reset_index()\n",
        "\n",
        "fig5 = px.bar(pivot4, x=\"年齡層\", y='確定病例數', barmode='group', color='確定病例數',\n",
        "              facet_row='性別',\n",
        "              hover_data=['個案研判日_string','性別','年齡層','確定病例數'],\n",
        "              title='確診年齡層分布-2')\n",
        "\n",
        "\n",
        "\n",
        "\n",
        "fig5.show()\n"
      ]
    },
    {
      "cell_type": "code",
      "execution_count": null,
      "metadata": {
        "colab": {
          "base_uri": "https://localhost:8080/",
          "height": 542
        },
        "id": "hMAdhxMYDwgL",
        "outputId": "dfc40e8f-a651-4917-ec49-e27e69535cc0"
      },
      "outputs": [],
      "source": [
        "# 確診年齡層\n",
        "\n",
        "pivot4 = daily_stats.pivot_table(index=['個案研判日_string','年齡層','性別'], values=['確定病例數'], aggfunc='sum')\n",
        "pivot4 = pivot4.reset_index()\n",
        "\n",
        "fig6 = px.bar(pivot4, x=\"年齡層\", y='確定病例數', barmode='group', color='確定病例數',\n",
        "              facet_row='性別',\n",
        "              hover_data=['個案研判日_string','性別','年齡層','確定病例數'],\n",
        "              title='確診年齡層分布-3',\n",
        "              animation_frame='個案研判日_string')\n",
        "\n",
        "\n",
        "\n",
        "\n",
        "fig6.show()\n"
      ]
    },
    {
      "cell_type": "code",
      "execution_count": null,
      "metadata": {
        "id": "OZ7VE21d44Ch"
      },
      "outputs": [],
      "source": [
        "%%sh\n",
        "pip install jupyter-dash -q\n",
        "pip install dash-cytoscape -q"
      ]
    },
    {
      "cell_type": "code",
      "execution_count": null,
      "metadata": {
        "colab": {
          "base_uri": "https://localhost:8080/",
          "height": 125
        },
        "id": "5SIJxF3U4--y",
        "outputId": "9f2f8ebd-d187-49a3-e855-24c703e24b23"
      },
      "outputs": [],
      "source": [
        "from jupyter_dash import JupyterDash  # pip install dash\n",
        "import dash_cytoscape as cyto  # pip install dash-cytoscape==0.2.0 or higher\n",
        "import dash_html_components as html\n",
        "from dash import dcc\n",
        "from dash.dependencies import Output, Input"
      ]
    },
    {
      "cell_type": "code",
      "execution_count": null,
      "metadata": {
        "colab": {
          "base_uri": "https://localhost:8080/",
          "height": 706
        },
        "id": "Xpt1SKEb5HKb",
        "outputId": "acfd48c8-da22-4176-e333-8e0343ecab0e"
      },
      "outputs": [],
      "source": [
        "app = JupyterDash(__name__)\n",
        "\n",
        "app.layout = html.Div(children=[\n",
        "    html.H1(children='Covid-19 Analysis'),\n",
        "\n",
        "    html.Div(children=dcc.Graph(id='fig1', figure=fig1)),\n",
        "    html.Div(children=dcc.Graph(id='fig2', figure=fig2)),\n",
        "    html.Div(children=dcc.Graph(id='fig3', figure=fig3)),\n",
        "    html.Div(children=dcc.Graph(id='fig4', figure=fig4)),\n",
        "    html.Div(children=dcc.Graph(id='fig5', figure=fig5)),\n",
        "    html.Div(children=dcc.Graph(id='fig6', figure=fig6)),\n",
        "\n",
        "    \n",
        "\n",
        "    \n",
        "\n",
        "    \n",
        "])\n",
        "\n",
        "if __name__ == '__main__':\n",
        "    app.run_server(debug=True)\n",
        "    app.run_server(mode='inline', port=8030)"
      ]
    },
    {
      "cell_type": "markdown",
      "metadata": {
        "id": "h4HoRFl6FbyA"
      },
      "source": [
        "## Resources\n",
        "dash app gallery\n",
        "1. https://dash.gallery/Portal/\n",
        "\n",
        "dash-pivottable\n",
        "1. https://github.com/plotly/dash-pivottable\n",
        "\n",
        "2. https://dash.gallery/dash-pivottable/"
      ]
    }
  ],
  "metadata": {
    "colab": {
      "collapsed_sections": [],
      "name": "2022 Covid-19 TW 統計圖表.ipynb",
      "provenance": []
    },
    "kernelspec": {
      "display_name": "Python 3.9.7 ('base')",
      "language": "python",
      "name": "python3"
    },
    "language_info": {
      "codemirror_mode": {
        "name": "ipython",
        "version": 3
      },
      "file_extension": ".py",
      "mimetype": "text/x-python",
      "name": "python",
      "nbconvert_exporter": "python",
      "pygments_lexer": "ipython3",
      "version": "3.9.7"
    },
    "vscode": {
      "interpreter": {
        "hash": "af8259ad5c1c9c7a69bd6ea085234cf8fd3a6a37a71ca551828b314c4d89b0ad"
      }
    }
  },
  "nbformat": 4,
  "nbformat_minor": 0
}
